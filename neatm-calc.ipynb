{
 "cells": [
  {
   "cell_type": "code",
   "execution_count": 1,
   "id": "68648483-85b5-47b0-a24d-8a8783513b12",
   "metadata": {},
   "outputs": [],
   "source": [
    "import os,sys\n",
    "sys.path.append('/Users/nxroth/scripts')\n",
    "from NEATM import *\n",
    "import astropy.units as u\n",
    "from uncertainties import ufloat\n",
    "from uncertainties.umath import *"
   ]
  },
  {
   "cell_type": "code",
   "execution_count": 2,
   "id": "6f3c1f83-abee-4e7b-9fe1-924290117a81",
   "metadata": {},
   "outputs": [],
   "source": [
    "phase_int = 0.4\n",
    "rad_emissivity = ufloat(0.70,0.13)\n",
    "rad_emissivity = 0.70\n",
    "bolo_emissivity = ufloat(0.90,0.06)\n",
    "bolo_emissivity = 0.8\n",
    "#pv = ufloat(0.05,0.012)\n",
    "pv = 0.05\n",
    "#eta = ufloat(1.175,0.42)\n",
    "eta = 0.7\n",
    "objectName = 'C/2024 G3'\n",
    "obsDate1 = '2025-01-09'\n",
    "obsTime1 = '18:40:00'\n",
    "obsDate2 = '2025-01-14'\n",
    "obsTime2 = '15:10:00'\n",
    "obsDate3 = '2025-01-11'\n",
    "obsTime3 = '18:30:00'\n",
    "obsDate4 = '2025-01-15'\n",
    "obsTime4 = '15:45:00'\n",
    "l = 1*u.Jy\n",
    "nu1 = 100*u.GHz\n",
    "nu2 = 145*u.GHz\n",
    "nu3 = 220*u.GHz\n",
    "nu4 = 250*u.GHz\n",
    "nu5 = 230*u.GHz\n",
    "m = 1*u.km\n",
    "\n"
   ]
  },
  {
   "cell_type": "code",
   "execution_count": 3,
   "id": "6bf16544-bc42-4e37-915e-6c4d8610d035",
   "metadata": {},
   "outputs": [
    {
     "name": "stdout",
     "output_type": "stream",
     "text": [
      "Subsolar temperature = 993.2565349935819 K\n",
      "Subsolar temperature = 1337.6147875889724 K\n",
      "Subsolar temperature = 1254.9453082614239 K\n",
      "Subsolar temperature = 1254.9453082614239 K\n",
      "Subsolar temperature = 1164.8169697769313 K\n"
     ]
    }
   ],
   "source": [
    "#Initiate for Jan 9 B3\n",
    "neatm_calc1 = neatm(objectName=objectName, obsDate=obsDate1, obsTime=obsTime1, nu=nu1,\n",
    "                   pv=pv,phase_int=phase_int,bolo_emissivity=bolo_emissivity,\n",
    "                   rad_emissivity=rad_emissivity,eta=eta,uncertainties=False)\n",
    "\n",
    "#Initiate for Jan 14 B4\n",
    "neatm_calc2 = neatm(objectName=objectName, obsDate=obsDate2, obsTime=obsTime2, nu=nu2,\n",
    "                   pv=pv,phase_int=phase_int,bolo_emissivity=bolo_emissivity,\n",
    "                   rad_emissivity=rad_emissivity,eta=eta,uncertainties=False)\n",
    "\n",
    "#Initiate for Jan 11 H2S\n",
    "neatm_calc3 = neatm(objectName=objectName, obsDate=obsDate3, obsTime=obsTime3, nu=nu3,\n",
    "                   pv=pv,phase_int=phase_int,bolo_emissivity=bolo_emissivity,\n",
    "                   rad_emissivity=rad_emissivity,eta=eta,uncertainties=False)\n",
    "\n",
    "#Initiate for Jan 11 HCN\n",
    "neatm_calc4 = neatm(objectName=objectName, obsDate=obsDate3, obsTime=obsTime3, nu=nu4,\n",
    "                   pv=pv,phase_int=phase_int,bolo_emissivity=bolo_emissivity,\n",
    "                   rad_emissivity=rad_emissivity,eta=eta,uncertainties=False)\n",
    "\n",
    "#Initiate for Jan 14 CS\n",
    "neatm_calc5 = neatm(objectName=objectName, obsDate=obsDate4, obsTime=obsTime4, nu=nu5,\n",
    "                   pv=pv,phase_int=phase_int,bolo_emissivity=bolo_emissivity,\n",
    "                   rad_emissivity=rad_emissivity,eta=eta,uncertainties=False)"
   ]
  },
  {
   "cell_type": "code",
   "execution_count": 4,
   "id": "b46525f7-33e7-40f9-906d-08eba12338e9",
   "metadata": {},
   "outputs": [
    {
     "name": "stdout",
     "output_type": "stream",
     "text": [
      "January 9 B3 point fit diameter:\n"
     ]
    },
    {
     "name": "stderr",
     "output_type": "stream",
     "text": [
      "/Users/nxroth/.pyenv/versions/3.11.10/envs/neatm/lib/python3.11/site-packages/astropy/units/quantity.py:659: RuntimeWarning: overflow encountered in exp\n",
      "  result = super().__array_ufunc__(function, method, *arrays, **kwargs)\n"
     ]
    },
    {
     "name": "stdout",
     "output_type": "stream",
     "text": [
      "Diameter = 5.20+/-0.22 km\n",
      "January 11 HCN point fit diameter:\n",
      "Diameter = 3.96+/-0.05 km\n"
     ]
    }
   ],
   "source": [
    "#Calculate nucleus diameters for best fits to point-source fluxes\n",
    "print('January 9 B3 point fit diameter:')\n",
    "diam1 = neatm_calc1.calcDiameter(flux=ufloat(1.06e-4,8.95e-6)*l)\n",
    "print('January 11 HCN point fit diameter:')\n",
    "diam1 = neatm_calc4.calcDiameter(flux=ufloat(3.94e-4,9.72e-6)*l)"
   ]
  },
  {
   "cell_type": "code",
   "execution_count": 5,
   "id": "12d6aca6-4cf7-4a3c-bef7-f84c9e143379",
   "metadata": {},
   "outputs": [
    {
     "name": "stdout",
     "output_type": "stream",
     "text": [
      "January 9 masses for kl_1, kl_2:\n",
      "Mass = (6.157+/-0.502)e+11 kg\n",
      "Mass = (5.382+/-0.439)e+11 kg\n",
      "January 14 max coma masses for kl_1, kl_2:\n",
      "Mass = (4.622+/-0.076)e+11 kg\n",
      "Mass = (4.040+/-0.066)e+11 kg\n"
     ]
    }
   ],
   "source": [
    "#Calculate dust mass upper limits implied by Band 3 and 4 flux\n",
    "kl_1 = 1.32e-2*u.m**2/u.kg\n",
    "kl_2 = 1.51e-2*u.m**2/u.kg\n",
    "phi = 58.28*u.arcsec\n",
    "print('January 9 masses for kl_1, kl_2:')\n",
    "mass1 = neatm_calc1.calcMassKappa(K=ufloat(6.40e1,5.22)*l,kappa=kl_1,phi=phi)\n",
    "mass2 = neatm_calc1.calcMassKappa(K=ufloat(6.40e1,5.22)*l,kappa=kl_2,phi=phi)\n",
    "phi2 = 40.19*u.arcsec\n",
    "print('January 14 max coma masses for kl_1, kl_2:')\n",
    "mass1 = neatm_calc2.calcMassKappa(K=ufloat(2.48e2,4.07)*l,kappa=kl_1,phi=phi2)\n",
    "mass2 = neatm_calc2.calcMassKappa(K=ufloat(2.48e2,4.07)*l,kappa=kl_2,phi=phi2)"
   ]
  },
  {
   "cell_type": "code",
   "execution_count": 6,
   "id": "0094a7f6-dd05-471b-9c39-328b4e5d5829",
   "metadata": {},
   "outputs": [
    {
     "name": "stdout",
     "output_type": "stream",
     "text": [
      "January 11 coma masses for kl_1, kl_2:\n",
      "Mass = (2.323+/-0.095)e+11 kg\n",
      "Mass = (1.910+/-0.078)e+11 kg\n",
      "January 14 coma masses for kl_1, kl_2:\n",
      "Mass = (3.828+/-0.043)e+11 kg\n",
      "Mass = (3.828+/-0.043)e+11 kg\n"
     ]
    }
   ],
   "source": [
    "#Calculate dust mass upper limits implied by Band 6 fluxes\n",
    "kl_1 = 2.73e-2*u.m**2/u.kg\n",
    "kl_2 = 3.32e-2*u.m**2/u.kg\n",
    "phi = 26.5*u.arcsec\n",
    "print('January 11 coma masses for kl_1, kl_2:')\n",
    "mass1 = neatm_calc4.calcMassKappa(K=ufloat(1.0e3,4.1e1)*l,kappa=kl_1,phi=phi)\n",
    "mass2 = neatm_calc4.calcMassKappa(K=ufloat(1.0e3,4.1e1)*l,kappa=kl_2,phi=phi)\n",
    "phi2 = 24.12*u.arcsec\n",
    "print('January 14 coma masses for kl_1, kl_2:')\n",
    "mass1 = neatm_calc5.calcMassKappa(K=ufloat(1.49e3,1.68e1)*l,kappa=kl_1,phi=phi2)\n",
    "mass2 = neatm_calc5.calcMassKappa(K=ufloat(1.49e3,1.68e1)*l,kappa=kl_1,phi=phi2)"
   ]
  },
  {
   "cell_type": "code",
   "execution_count": null,
   "id": "f652927b-6ccc-4fe8-9d47-608271f117f2",
   "metadata": {},
   "outputs": [],
   "source": []
  },
  {
   "cell_type": "code",
   "execution_count": null,
   "id": "3a7b6226-53d8-4239-9993-655a60264aba",
   "metadata": {},
   "outputs": [],
   "source": []
  }
 ],
 "metadata": {
  "kernelspec": {
   "display_name": "Python 3 (ipykernel)",
   "language": "python",
   "name": "python3"
  },
  "language_info": {
   "codemirror_mode": {
    "name": "ipython",
    "version": 3
   },
   "file_extension": ".py",
   "mimetype": "text/x-python",
   "name": "python",
   "nbconvert_exporter": "python",
   "pygments_lexer": "ipython3",
   "version": "3.11.10"
  }
 },
 "nbformat": 4,
 "nbformat_minor": 5
}
